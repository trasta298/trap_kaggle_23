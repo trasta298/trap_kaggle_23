{
 "cells": [
  {
   "cell_type": "code",
   "execution_count": null,
   "metadata": {},
   "outputs": [],
   "source": [
    "import numpy as np\n",
    "import pandas as pd\n",
    "\n",
    "\n",
    "sample_sub = pd.read_csv('sample_submission.csv')"
   ]
  },
  {
   "cell_type": "code",
   "execution_count": null,
   "metadata": {},
   "outputs": [],
   "source": [
    "ens = [\n",
    "    ('sub/submit_175_True.csv', 1),\n",
    "    ('sub/submit_266_False.csv', 3),\n",
    "]\n",
    "\n",
    "sample_sub['score'] = 0\n",
    "\n",
    "# アンサンブルを行う\n",
    "for i, (filename, weight) in enumerate(ens):\n",
    "    sub = pd.read_csv(filename)\n",
    "    sample_sub['score'] += sub['score'] * weight\n",
    "\n",
    "sample_sub['score'] /= sum([w for _, w in ens])"
   ]
  },
  {
   "cell_type": "code",
   "execution_count": null,
   "metadata": {},
   "outputs": [],
   "source": [
    "sample_sub.to_csv('submit_ensemble.csv', index=False)"
   ]
  }
 ],
 "metadata": {
  "kernelspec": {
   "display_name": ".venv",
   "language": "python",
   "name": "python3"
  },
  "language_info": {
   "codemirror_mode": {
    "name": "ipython",
    "version": 3
   },
   "file_extension": ".py",
   "mimetype": "text/x-python",
   "name": "python",
   "nbconvert_exporter": "python",
   "pygments_lexer": "ipython3",
   "version": "3.8.16"
  },
  "orig_nbformat": 4
 },
 "nbformat": 4,
 "nbformat_minor": 2
}
