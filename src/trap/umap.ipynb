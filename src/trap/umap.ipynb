{
 "cells": [
  {
   "cell_type": "code",
   "execution_count": 1,
   "metadata": {},
   "outputs": [],
   "source": [
    "import pandas as pd\n",
    "\n",
    "anime_data = pd.read_csv('anime.csv')\n",
    "\n",
    "# synopsis カラムでfloatのものを \"\" に変換\n",
    "anime_data['synopsis'] = anime_data['synopsis'].astype(str)"
   ]
  },
  {
   "cell_type": "code",
   "execution_count": 2,
   "metadata": {},
   "outputs": [
    {
     "name": "stderr",
     "output_type": "stream",
     "text": [
      "2023-08-23 06:36:43.415519: W tensorflow/stream_executor/platform/default/dso_loader.cc:60] Could not load dynamic library 'libcudart.so.11.0'; dlerror: libcudart.so.11.0: cannot open shared object file: No such file or directory; LD_LIBRARY_PATH: /usr/local/cuda/lib64:\n",
      "2023-08-23 06:36:43.415557: I tensorflow/stream_executor/cuda/cudart_stub.cc:29] Ignore above cudart dlerror if you do not have a GPU set up on your machine.\n"
     ]
    }
   ],
   "source": [
    "import pandas as pd\n",
    "from gensim.models import Word2Vec\n",
    "from sklearn.feature_extraction.text import TfidfVectorizer\n",
    "import umap\n",
    "import numpy as np\n",
    "\n",
    "# Word2Vecモデルの訓練\n",
    "sentences = [text.split() for text in anime_data['synopsis']]\n",
    "model = Word2Vec(sentences, vector_size=100, window=5, min_count=1, workers=4)\n",
    "model.train(sentences, total_examples=len(sentences), epochs=100)\n",
    "\n",
    "# 各文章のベクトルを計算\n",
    "def vectorize_text(text):\n",
    "    words = text.split()\n",
    "    vectors = [model.wv[word] for word in words if word in model.wv.index_to_key]\n",
    "    if vectors:\n",
    "        vector = np.mean(vectors, axis=0)\n",
    "    else:\n",
    "        vector = np.zeros(model.vector_size) # ベクトルが空の場合、ゼロベクトルを使用\n",
    "    return vector\n",
    "\n",
    "vectors = anime_data['synopsis'].apply(vectorize_text)\n",
    "vectors_matrix = np.vstack(vectors)\n",
    "\n",
    "# n_neighborsの値をデータセットのサイズよりも小さく設定\n",
    "n_neighbors_value = min(5, len(anime_data) - 1)\n",
    "\n",
    "# UMAPで次元削減\n",
    "umap_model = umap.UMAP(n_neighbors=n_neighbors_value, min_dist=0.3, n_components=10)\n",
    "umap_vectors = umap_model.fit_transform(vectors_matrix)\n",
    "\n",
    "# 新規カラムとして追加\n",
    "anime_data[['umap_vector_' + str(i) for i in range(umap_vectors.shape[1])]] = pd.DataFrame(umap_vectors)\n"
   ]
  },
  {
   "cell_type": "code",
   "execution_count": null,
   "metadata": {},
   "outputs": [],
   "source": [
    "# anime.csv として保存\n",
    "anime_data.to_csv('anime.csv', index=False)"
   ]
  }
 ],
 "metadata": {
  "kernelspec": {
   "display_name": ".venv",
   "language": "python",
   "name": "python3"
  },
  "language_info": {
   "codemirror_mode": {
    "name": "ipython",
    "version": 3
   },
   "file_extension": ".py",
   "mimetype": "text/x-python",
   "name": "python",
   "nbconvert_exporter": "python",
   "pygments_lexer": "ipython3",
   "version": "3.8.10"
  },
  "orig_nbformat": 4
 },
 "nbformat": 4,
 "nbformat_minor": 2
}
