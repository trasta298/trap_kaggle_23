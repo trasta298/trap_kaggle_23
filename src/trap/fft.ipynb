{
 "cells": [
  {
   "cell_type": "code",
   "execution_count": 1,
   "metadata": {},
   "outputs": [],
   "source": [
    "seeds = {\n",
    "    'random_state': 24,\n",
    "}"
   ]
  },
  {
   "cell_type": "code",
   "execution_count": 2,
   "metadata": {},
   "outputs": [],
   "source": [
    "import pandas as pd\n",
    "from matplotlib import pyplot as plt\n",
    "\n",
    "train_data = pd.read_csv('train.csv')\n",
    "test_data = pd.read_csv('test.csv')\n",
    "anime_data = pd.read_csv('anime.csv')\n",
    "profile_data = pd.read_csv('profile.csv')"
   ]
  },
  {
   "cell_type": "code",
   "execution_count": 3,
   "metadata": {},
   "outputs": [],
   "source": [
    "# Filling missing values for anime.csv\n",
    "anime_data['synopsis'].fillna('', inplace=True)\n",
    "anime_data['episodes'].fillna(anime_data['episodes'].median(), inplace=True)\n",
    "\n",
    "# ranked は start_year=2020 または genre に Hentai が含まれている場合は全体の平均値、それ以外は max + 1 で埋める\n",
    "anime_data['ranked'].fillna(anime_data[anime_data['start_year'] == 2020]['ranked'].mean(), inplace=True)\n",
    "anime_data['ranked'].fillna(anime_data[anime_data['genre'].str.contains('Hentai')]['ranked'].mean(), inplace=True)\n",
    "anime_data['ranked'].fillna(anime_data['ranked'].max() + 1, inplace=True)\n",
    "\n",
    "# Filling missing values for profile.csv\n",
    "profile_data['gender'].fillna('Unknown', inplace=True)"
   ]
  },
  {
   "cell_type": "code",
   "execution_count": 4,
   "metadata": {},
   "outputs": [],
   "source": [
    "from datetime import datetime\n",
    "\n",
    "# Converting birthday to age\n",
    "def calculate_age(birthday):\n",
    "    try:\n",
    "        birth_date = datetime.strptime(birthday, '%b %d, %Y')\n",
    "        return 2023 - birth_date.year\n",
    "    except:\n",
    "        try:\n",
    "            birth_date = datetime.strptime(birthday, '%Y')\n",
    "            return 2023 - birth_date.year\n",
    "        except:\n",
    "            try:\n",
    "                birth_date = datetime.strptime(birthday, '%m, %Y')\n",
    "                return 2023 - birth_date.year\n",
    "            except:\n",
    "                return None\n",
    "\n",
    "profile_data['age'] = profile_data['birthday'].apply(calculate_age)\n",
    "\n",
    "profile_data.drop('birthday', axis=1, inplace=True)\n"
   ]
  },
  {
   "cell_type": "code",
   "execution_count": 5,
   "metadata": {},
   "outputs": [],
   "source": [
    "# 欠損値を平均値で埋める\n",
    "profile_data['age'].fillna(profile_data['age'].mean(), inplace=True)\n",
    "\n",
    "# 10以下、80以上の値を平均値で埋める\n",
    "profile_data.loc[profile_data['age'] < 10, 'age'] = profile_data['age'].mean()\n",
    "profile_data.loc[profile_data['age'] > 80, 'age'] = profile_data['age'].mean()"
   ]
  },
  {
   "cell_type": "code",
   "execution_count": 6,
   "metadata": {},
   "outputs": [],
   "source": [
    "# start_yearが欠損値のデータのうち、start_monthが欠損値でないデータは start_year = start_month とする\n",
    "anime_data.loc[anime_data['start_year'].isnull() & anime_data['start_month'].notnull(), 'start_year'] = anime_data['start_month']\n",
    "\n",
    "# start_yearが欠損値のidを持っておく\n",
    "missing_start_year_ids = anime_data.loc[anime_data['start_year'].isnull(), 'id']\n",
    "\n",
    "anime_data_sorted = anime_data.sort_values('members', ascending=False)\n",
    "# start_yearでソートしたものを作成\n",
    "anime_data_sorted_by_start_year = anime_data.sort_values('start_year', ascending=False)\n",
    "\n",
    "# start_yearの欠損値を、start_yearの大きさの順位が member の値の順位の数字 と同じ値の start_year で埋める\n",
    "i = 0\n",
    "for row in anime_data_sorted.itertuples():\n",
    "    if pd.isna(row.start_year):\n",
    "        anime_data.loc[anime_data['id'] == row.id, 'start_year'] = anime_data_sorted_by_start_year.iloc[i]['start_year']\n",
    "    i += 1\n",
    "\n",
    "# start_yearの欠損値を1940で埋める\n",
    "anime_data['start_year'].fillna(1940, inplace=True)"
   ]
  },
  {
   "cell_type": "code",
   "execution_count": 7,
   "metadata": {},
   "outputs": [],
   "source": [
    "# titleに Ⅱ, Ⅲ, Ⅳが含まれる、または、titleに \"Season\" が含まれる、 2nd, 3rd, 4th が含まれる、または、titleの末尾に 2, 3, 4 が含まれるものは 1 にする\n",
    "season_symbols = ['Ⅱ', 'Ⅲ', 'Ⅳ', 'II', 'III', 'IV', '2nd', '3rd', '4th', ' Season', ' season']\n",
    "anime_data['season'] = anime_data['title'].apply(lambda x: 1 if any(s in x for s in season_symbols) or any(x.endswith(s) for s in ['2', '3', '4']) else 0)\n",
    "\n",
    "# titleに Lupin が含まれるものは 0 にする\n",
    "anime_data['season'] = anime_data.apply(lambda x: 0 if 'Lupin' in x['title'] else x['season'], axis=1)\n"
   ]
  },
  {
   "cell_type": "code",
   "execution_count": 8,
   "metadata": {},
   "outputs": [],
   "source": [
    "# genreをone-hotエンコーディング genre_〇〇 にする\n",
    "import ast\n",
    "anime_data['genre'] = anime_data['genre'].apply(lambda x: ast.literal_eval(x) if isinstance(x, str) else x)\n",
    "\n",
    "genres = set()\n",
    "for row in anime_data.itertuples():\n",
    "    if isinstance(row.genre, list):\n",
    "        for genre in row.genre:\n",
    "            genres.add(genre)\n",
    "\n",
    "for genre in genres:\n",
    "    anime_data['genre_' + genre] = anime_data['genre'].apply(lambda x: 1 if isinstance(x, list) and genre in x else 0)"
   ]
  },
  {
   "cell_type": "code",
   "execution_count": 9,
   "metadata": {},
   "outputs": [],
   "source": [
    "# 重複データの削除\n",
    "anime_data.drop_duplicates(subset=['id'], inplace=True)"
   ]
  },
  {
   "cell_type": "code",
   "execution_count": 10,
   "metadata": {},
   "outputs": [],
   "source": [
    "# train_data(anime_id) と anime_data(id) を結合 left outer join\n",
    "train_data_merged = pd.merge(train_data, anime_data, left_on='anime_id', right_on='id', how='left')\n",
    "test_data_merged = pd.merge(test_data, anime_data, left_on='anime_id', right_on='id', how='left')\n",
    "\n",
    "# start_day, start_month, end_month, end_day, end_year を削除\n",
    "train_data_merged.drop(columns=['start_day', 'start_month', 'end_month', 'end_day', 'end_year'], inplace=True)\n",
    "test_data_merged.drop(columns=['start_day', 'start_month', 'end_month', 'end_day', 'end_year'], inplace=True)"
   ]
  },
  {
   "cell_type": "code",
   "execution_count": 11,
   "metadata": {},
   "outputs": [],
   "source": [
    "# scoreが10より大きいものを10にする\n",
    "train_data_merged.loc[train_data_merged['score'] > 10, 'score'] = 10\n",
    "\n",
    "# scoreが1より小さいものを1にする\n",
    "train_data_merged.loc[train_data_merged['score'] < 1, 'score'] = 1"
   ]
  },
  {
   "cell_type": "code",
   "execution_count": 12,
   "metadata": {},
   "outputs": [],
   "source": [
    "# train_data(user) と profile_data(user) を結合\n",
    "train_data_merged = pd.merge(train_data_merged, profile_data, left_on='user', right_on='user', how='left')\n",
    "test_data_merged = pd.merge(test_data_merged, profile_data, left_on='user', right_on='user', how='left')\n"
   ]
  },
  {
   "cell_type": "code",
   "execution_count": 13,
   "metadata": {},
   "outputs": [],
   "source": [
    "# その行以外のuserがつけたscoreの数をカウントして、その値をカラムにする userscore_1 ~ userscore_10\n",
    "# 先にmapを作る\n",
    "from collections import defaultdict\n",
    "\n",
    "user_score_map = defaultdict(lambda: defaultdict(int))\n",
    "for row in train_data_merged.itertuples():\n",
    "    user_score_map[row.user][row.score] += 1\n",
    "\n",
    "# mapを使ってカラムを作る\n",
    "for i in range(1, 11):\n",
    "    train_data_merged['userscore_' + str(i)] = train_data_merged.apply(lambda x: user_score_map[x['user']][i] if i != x['score'] else user_score_map[x['user']][i] - 1, axis=1)\n",
    "    test_data_merged['userscore_' + str(i)] = test_data_merged.apply(lambda x: user_score_map[x['user']][i], axis=1)\n",
    "\n",
    "# # score_1 ~ score_10 カラムを 行ごとに正規化\n",
    "columns_to_normalize = [f'userscore_{i}' for i in range(1, 11)]\n",
    "train_data_merged[columns_to_normalize] = train_data_merged[columns_to_normalize].apply(lambda x: x / x.sum() if x.sum() != 0 else x, axis=1)\n",
    "test_data_merged[columns_to_normalize] = test_data_merged[columns_to_normalize].apply(lambda x: x / x.sum() if x.sum() != 0 else x, axis=1)"
   ]
  },
  {
   "cell_type": "code",
   "execution_count": 14,
   "metadata": {},
   "outputs": [],
   "source": [
    "# anime ごとに score の平均値を取って、animescore という名前のカラムに追加\n",
    "train_data_merged['animescore'] = train_data_merged.groupby('anime_id')['score'].transform(lambda x: (x.sum() - x) / (x.count() - 1) if x.count() > 1 else None)\n",
    "test_data_merged['animescore'] = train_data_merged.groupby('anime_id')['score'].transform(lambda x: x.mean() if x.count() > 0 else None)\n",
    "\n",
    "# animescore が欠損値のものは、平均値で埋める\n",
    "train_data_merged['animescore'].fillna(train_data_merged['score'].mean(), inplace=True)\n",
    "test_data_merged['animescore'].fillna(train_data_merged['score'].mean(), inplace=True)"
   ]
  },
  {
   "cell_type": "code",
   "execution_count": 15,
   "metadata": {},
   "outputs": [],
   "source": [
    "# text_len を追加\n",
    "train_data_merged['text_len'] = train_data_merged['text'].apply(lambda x: len(x.replace(' ', '')))\n"
   ]
  },
  {
   "cell_type": "code",
   "execution_count": 16,
   "metadata": {},
   "outputs": [],
   "source": [
    "from sklearn.preprocessing import OneHotEncoder\n",
    "\n",
    "# gender の Non-Binary を Unknown にする\n",
    "train_data_merged = train_data_merged.replace('Non-Binary', 'Unknown')\n",
    "test_data_merged = test_data_merged.replace('Non-Binary', 'Unknown')\n",
    "\n",
    "# genderをOne-Hotエンコーディング\n",
    "gender_encoder = OneHotEncoder()\n",
    "gender_one_hot = gender_encoder.fit_transform(train_data_merged[['gender']]).toarray()  # type: ignore\n",
    "gender_labels = gender_encoder.get_feature_names_out(['gender'])\n",
    "for i, label in enumerate(gender_labels):\n",
    "    train_data_merged[label] = gender_one_hot[:, i]\n",
    "\n",
    "gender_one_hot_test = gender_encoder.transform(test_data_merged[['gender']]).toarray()  # type: ignore\n",
    "for i, label in enumerate(gender_labels):\n",
    "    test_data_merged[label] = gender_one_hot_test[:, i]\n"
   ]
  },
  {
   "cell_type": "code",
   "execution_count": 17,
   "metadata": {},
   "outputs": [
    {
     "name": "stdout",
     "output_type": "stream",
     "text": [
      "Accuracy: 0.8523622047244095\n",
      "AUC: 0.6300154287154177\n",
      "Accuracy: 0.8586723768736617\n",
      "AUC: 0.6345729491173415\n",
      "Accuracy: 0.8512304250559284\n",
      "AUC: 0.6153205707572009\n",
      "Accuracy: 0.8377518557794273\n",
      "AUC: 0.6466126201362888\n",
      "Accuracy: 0.845\n",
      "AUC: 0.6305401310464028\n",
      "Accuracy: 0.8489722966934763\n",
      "AUC: 0.6346095557150834\n",
      "Accuracy: 0.8544600938967136\n",
      "AUC: 0.6419783447949847\n",
      "Accuracy: 0.8592132505175983\n",
      "AUC: 0.6292052883041785\n",
      "Accuracy: 0.8596491228070176\n",
      "AUC: 0.6288638235483098\n",
      "Accuracy: 0.8677196446199408\n",
      "AUC: 0.6249719416386083\n",
      "Mean Accuracy: 0.8535031270968172\n"
     ]
    },
    {
     "data": {
      "image/png": "[encoded data removed]",
      "text/plain": [
       "<Figure size 640x480 with 1 Axes>"
      ]
     },
     "metadata": {},
     "output_type": "display_data"
    }
   ],
   "source": [
    "import warnings \n",
    "warnings.simplefilter('ignore')\n",
    "\n",
    "# genderが Male or Female のもののみを残す\n",
    "train_valid = train_data_merged[(train_data_merged['gender_Male'] == 1) | train_data_merged['gender_Female'] == 1]\n",
    "train_invalid = train_data_merged[train_data_merged['gender_Unknown'] == 1]\n",
    "\n",
    "genre_columns = [col for col in train_valid.columns if 'genre_' in col]\n",
    "\n",
    "# genre_{任意のジャンル}カラムにscoreを掛ける\n",
    "for genre in genre_columns:\n",
    "    train_valid[genre] *= train_valid['score']\n",
    "    train_invalid[genre] *= train_invalid['score']\n",
    "\n",
    "# userごとにジャンルカラムを合計し、1に正規化\n",
    "train_valid_grouped = train_valid.groupby('user')[genre_columns].sum()\n",
    "train_valid_grouped = train_valid_grouped.div(train_valid_grouped.sum(axis=1), axis=0)\n",
    "train_invalid_grouped = train_invalid.groupby('user')[genre_columns].sum()\n",
    "train_invalid_grouped = train_invalid_grouped.div(train_invalid_grouped.sum(axis=1), axis=0)\n",
    "\n",
    "# gender, userカラムを追加\n",
    "train_valid_grouped['gender'] = train_valid.groupby('user')['gender'].first()\n",
    "train_valid_grouped['user'] = train_valid_grouped.index\n",
    "train_invalid_grouped['user'] = train_invalid_grouped.index\n",
    "\n",
    "# Male 0 Female 1\n",
    "train_valid_grouped['gender'] = train_valid_grouped['gender'].map({'Male': 0, 'Female': 1})\n",
    "train_valid_grouped = train_valid_grouped.reset_index(drop=True)\n",
    "train_invalid_grouped = train_invalid_grouped.reset_index(drop=True)\n",
    "\n",
    "x_train = train_valid_grouped.drop(columns=['gender', 'user'])\n",
    "y_train = train_valid_grouped['gender']\n",
    "\n",
    "x_test = train_invalid_grouped.drop(columns=['user'])\n",
    "\n",
    "import lightgbm as lgb\n",
    "from sklearn.model_selection import KFold\n",
    "from sklearn.metrics import accuracy_score, roc_curve, auc\n",
    "import numpy as np\n",
    "\n",
    "# パラメータの設定\n",
    "params = {\n",
    "    'objective': 'binary',\n",
    "    'metric': 'auc',\n",
    "    'verbose': -1,\n",
    "    'boosting': 'gbdt',\n",
    "    'early_stopping_round': 20,\n",
    "    'n_estimators': 10000, \n",
    "    'learning_rate': 0.05,\n",
    "    'random_state': seeds['random_state'],\n",
    "}\n",
    "# 10分割のクロスバリデーション\n",
    "kf = KFold(n_splits=10, shuffle=True, random_state=seeds['random_state'])\n",
    "\n",
    "# 各分割での評価スコアを保存\n",
    "scores = []\n",
    "\n",
    "for train_index, val_index in kf.split(x_train):\n",
    "    x_train_fold, x_val_fold = x_train.iloc[train_index], x_train.iloc[val_index]\n",
    "    y_train_fold, y_val_fold = y_train.iloc[train_index], y_train.iloc[val_index]\n",
    "\n",
    "    bst = lgb.LGBMRegressor(**params)\n",
    "    bst.fit(x_train_fold, y_train_fold, eval_set=[(x_train_fold, y_train_fold), (x_val_fold, y_val_fold)])\n",
    "\n",
    "    # 予測\n",
    "    y_prod = bst.predict(x_val_fold)\n",
    "    y_pred = np.round(y_prod)  # type: ignore\n",
    "\n",
    "    # 評価\n",
    "    y_pred_tmp = np.where(y_prod <= 0.2, 0, np.where(y_prod >= 0.8, 1, 2))  # type: ignore\n",
    "    index_to_remove = np.where(y_pred_tmp == 2)\n",
    "    y_pred_tmp = np.delete(y_pred_tmp, index_to_remove)\n",
    "    y_val_fold_tmp = np.delete(y_val_fold, index_to_remove)\n",
    "\n",
    "    acc = accuracy_score(y_val_fold_tmp, y_pred_tmp)  # type: ignore\n",
    "    scores.append(acc)\n",
    "    print(f'Accuracy: {acc}')\n",
    "\n",
    "    fpr, tpr, thresholds = roc_curve(y_val_fold, y_pred)\n",
    "    aucval = auc(fpr, tpr)\n",
    "    print(f'AUC: {aucval}')\n",
    "\n",
    "    # ROC曲線をプロット\n",
    "    plt.plot(fpr, tpr, label='ROC curve (area = %.2f)'%aucval)\n",
    "    plt.legend()\n",
    "    plt.title('ROC curve')\n",
    "    plt.xlabel('False Positive Rate')\n",
    "    plt.ylabel('True Positive Rate')\n",
    "    plt.grid(True)\n",
    "\n",
    "# 全体の平均スコア\n",
    "mean_score = np.mean(scores)\n",
    "print(f'Mean Accuracy: {mean_score}')"
   ]
  },
  {
   "cell_type": "code",
   "execution_count": 18,
   "metadata": {},
   "outputs": [],
   "source": [
    "y_pred_test = bst.predict(x_test)\n",
    "# 0.3以下のものを0、0.7以上のものを1、それ以外を2にする\n",
    "y_pred_test = np.where(y_pred_test < 0.4, 0, np.where(y_pred_test >= 0.6, 1, 2))  # type: ignore\n",
    "\n",
    "train_invalid_grouped['gender'] = y_pred_test\n",
    "# userとgenderの対応を示したmapを作成\n",
    "user_gender_map = pd.Series(train_invalid_grouped['gender'].values, index=train_invalid_grouped['user']).to_dict()\n",
    "\n",
    "gender_map = {\n",
    "    0: 'Male', 1: 'Female', 2: 'Unknown'\n",
    "}\n",
    "\n",
    "# gender_Unknownが1で、user_gender_mapに存在するuserに対して操作を行う\n",
    "for idx, row in train_data_merged[train_data_merged['gender_Unknown'] == 1].iterrows():\n",
    "    user_value = row['user']\n",
    "    gender_value = user_gender_map.get(user_value)\n",
    "    if gender_value is not None:\n",
    "        train_data_merged.loc[idx, 'gender_Male'] = 1 if gender_value == 0 else 0  # type: ignore\n",
    "        train_data_merged.loc[idx, 'gender_Female'] = 1 if gender_value == 1 else 0  # type: ignore\n",
    "        train_data_merged.loc[idx, 'gender_Unknown'] = 1 if gender_value == 2 else 0  # type: ignore\n",
    "        train_data_merged.loc[idx, 'gender'] = gender_map[gender_value]  # type: ignore\n",
    "\n",
    "for idx, row in test_data_merged[test_data_merged['gender_Unknown'] == 1].iterrows():\n",
    "    user_value = row['user']\n",
    "    gender_value = user_gender_map.get(user_value)\n",
    "    if gender_value is not None:\n",
    "        test_data_merged.loc[idx, 'gender_Male'] = 1 if gender_value == 0 else 0  # type: ignore\n",
    "        test_data_merged.loc[idx, 'gender_Female'] = 1 if gender_value == 1 else 0  # type: ignore\n",
    "        test_data_merged.loc[idx, 'gender_Unknown'] = 1 if gender_value == 2 else 0  # type: ignore\n",
    "        test_data_merged.loc[idx, 'gender'] = gender_map[gender_value]  # type: ignore\n"
   ]
  },
  {
   "cell_type": "code",
   "execution_count": 19,
   "metadata": {},
   "outputs": [],
   "source": [
    "# gender_ から始まるカラムと genre_ から始まるカラムを掛け合わせる\n",
    "for gender_col in [col for col in train_data_merged.columns if col.startswith('gender_')]:\n",
    "    for genre_col in [col for col in train_data_merged.columns if col.startswith('genre_')]:\n",
    "        gender = gender_col.split('_')[1]\n",
    "        genre = genre_col.split('_')[1]\n",
    "        new_col_name = f'gen_{genre}_{gender}'\n",
    "        train_data_merged[new_col_name] = train_data_merged[gender_col] * train_data_merged[genre_col]\n",
    "\n",
    "for gender_col in [col for col in test_data_merged.columns if col.startswith('gender_')]:\n",
    "    for genre_col in [col for col in test_data_merged.columns if col.startswith('genre_')]:\n",
    "        gender = gender_col.split('_')[1]\n",
    "        genre = genre_col.split('_')[1]\n",
    "        new_col_name = f'gen_{genre}_{gender}'\n",
    "        test_data_merged[new_col_name] = test_data_merged[gender_col] * test_data_merged[genre_col]"
   ]
  },
  {
   "cell_type": "code",
   "execution_count": 20,
   "metadata": {},
   "outputs": [],
   "source": [
    "# gen_ から始まるカラムで合計が500以下のものを削除\n",
    "for col in [col for col in train_data_merged.columns if col.startswith('gen_')]:\n",
    "    if train_data_merged[col].sum() <= 500:\n",
    "        train_data_merged.drop(columns=[col], inplace=True)"
   ]
  },
  {
   "cell_type": "code",
   "execution_count": 21,
   "metadata": {},
   "outputs": [],
   "source": [
    "# aggregate features\n",
    "cat_cols = ['user']\n",
    "agg_cols = ['episodes', 'members', 'ranked', 'start_year', 'text_len']\n",
    "agg_types = ['mean', 'max', 'min', 'sum']\n",
    "\n",
    "for cat_col in cat_cols:\n",
    "    for agg_col in agg_cols:\n",
    "        for agg_type in agg_types:\n",
    "            if cat_col != agg_col:\n",
    "                new_col_name = 'agg_' + cat_col + '_' + agg_col + '_' + agg_type\n",
    "                temp = train_data_merged[[cat_col, agg_col]]\n",
    "                temp = temp.groupby([cat_col])[agg_col].agg([agg_type]).reset_index().rename(columns={agg_type: new_col_name})\n",
    "                temp.index = list(temp[cat_col])  # type: ignore\n",
    "                temp = temp[new_col_name].to_dict()\n",
    "                train_data_merged[new_col_name] = train_data_merged[cat_col].map(temp)\n",
    "                test_data_merged[new_col_name] = test_data_merged[cat_col].map(temp)"
   ]
  },
  {
   "cell_type": "code",
   "execution_count": 22,
   "metadata": {},
   "outputs": [],
   "source": [
    "# ['episodes', 'members', 'ranked', 'start_year', 'season', 'genre_*', 'gender', 'age'] カラムを特徴量として摘出する\n",
    "correct_num_features = ['episodes', 'members', 'ranked', 'start_year', 'age']\n",
    "# correct_features.extend([col for col in train_data_merged.columns if col.startswith('gen_') and 'Unknown' not in col])\n",
    "correct_num_features.extend([col for col in train_data_merged.columns if col.startswith('userscore_')])\n",
    "correct_num_features.extend([col for col in train_data_merged.columns if col.startswith('agg_') and 'Unknown' not in col])\n",
    "\n",
    "correct_cat_features = []\n",
    "target_feature = 'score'\n",
    "\n",
    "x_train = train_data_merged[correct_num_features + correct_cat_features + [target_feature]]\n",
    "x_test = test_data_merged[correct_num_features + correct_cat_features]\n",
    "\n",
    "# score を正解データとして摘出する\n",
    "y_train = train_data_merged['score']"
   ]
  },
  {
   "cell_type": "markdown",
   "metadata": {},
   "source": [
    "前処理をしてみる"
   ]
  },
  {
   "cell_type": "code",
   "execution_count": 23,
   "metadata": {},
   "outputs": [],
   "source": [
    "from sklearn.preprocessing import StandardScaler\n",
    "\n",
    "# 数値特徴のみを選択\n",
    "numerical_features = ['episodes', 'members', 'ranked', 'start_year', 'age']\n",
    "numerical_features.extend([col for col in x_train.columns if col.startswith('agg_') and 'Unknown' not in col])\n",
    "\n",
    "# 欠損値は平均値で埋める\n",
    "x_train[numerical_features] = x_train[numerical_features].fillna(x_train[numerical_features].mean())\n",
    "x_test[numerical_features] = x_test[numerical_features].fillna(x_test[numerical_features].mean())\n",
    "\n",
    "scaler = StandardScaler()\n",
    "x_train[numerical_features] = scaler.fit_transform(x_train[numerical_features])\n",
    "x_test[numerical_features] = scaler.fit_transform(x_test[numerical_features])\n",
    "\n",
    "# score_1 ~ score_10 カラムを 行ごとに正規化\n",
    "columns_to_normalize = [f'userscore_{i}' for i in range(1, 11)]\n",
    "x_train[columns_to_normalize] = x_train[columns_to_normalize].apply(lambda x: x / x.sum() if x.sum() != 0 else x, axis=1)\n",
    "x_test[columns_to_normalize] = x_test[columns_to_normalize].apply(lambda x: x / x.sum() if x.sum() != 0 else x, axis=1)"
   ]
  },
  {
   "cell_type": "code",
   "execution_count": 3,
   "metadata": {},
   "outputs": [
    {
     "ename": "AttributeError",
     "evalue": "module 'numpy' has no attribute 'typeDict'",
     "output_type": "error",
     "traceback": [
      "\u001b[0;31m---------------------------------------------------------------------------\u001b[0m",
      "\u001b[0;31mAttributeError\u001b[0m                            Traceback (most recent call last)",
      "Cell \u001b[0;32mIn[3], line 3\u001b[0m\n\u001b[1;32m      1\u001b[0m \u001b[39mfrom\u001b[39;00m \u001b[39msklearn\u001b[39;00m\u001b[39m.\u001b[39;00m\u001b[39mmodel_selection\u001b[39;00m \u001b[39mimport\u001b[39;00m train_test_split\n\u001b[1;32m      2\u001b[0m \u001b[39mfrom\u001b[39;00m \u001b[39msklearn\u001b[39;00m\u001b[39m.\u001b[39;00m\u001b[39mmetrics\u001b[39;00m \u001b[39mimport\u001b[39;00m mean_absolute_error\n\u001b[0;32m----> 3\u001b[0m \u001b[39mimport\u001b[39;00m \u001b[39mtensorflow\u001b[39;00m \u001b[39mas\u001b[39;00m \u001b[39mtf\u001b[39;00m\n\u001b[1;32m      4\u001b[0m \u001b[39mimport\u001b[39;00m \u001b[39mtensorflow_addons\u001b[39;00m \u001b[39mas\u001b[39;00m \u001b[39mtfa\u001b[39;00m\n\u001b[1;32m      5\u001b[0m \u001b[39mfrom\u001b[39;00m \u001b[39mtabtransformertf\u001b[39;00m\u001b[39m.\u001b[39;00m\u001b[39mutils\u001b[39;00m\u001b[39m.\u001b[39;00m\u001b[39mpreprocessing\u001b[39;00m \u001b[39mimport\u001b[39;00m df_to_dataset, build_categorical_prep\n",
      "File \u001b[0;32m/usr/local/lib/python3.8/dist-packages/tensorflow/__init__.py:38\u001b[0m\n\u001b[1;32m     35\u001b[0m \u001b[39mimport\u001b[39;00m \u001b[39msys\u001b[39;00m \u001b[39mas\u001b[39;00m \u001b[39m_sys\u001b[39;00m\n\u001b[1;32m     36\u001b[0m \u001b[39mimport\u001b[39;00m \u001b[39mtyping\u001b[39;00m \u001b[39mas\u001b[39;00m \u001b[39m_typing\u001b[39;00m\n\u001b[0;32m---> 38\u001b[0m \u001b[39mfrom\u001b[39;00m \u001b[39mtensorflow\u001b[39;00m\u001b[39m.\u001b[39;00m\u001b[39mpython\u001b[39;00m\u001b[39m.\u001b[39;00m\u001b[39mtools\u001b[39;00m \u001b[39mimport\u001b[39;00m module_util \u001b[39mas\u001b[39;00m _module_util\n\u001b[1;32m     39\u001b[0m \u001b[39mfrom\u001b[39;00m \u001b[39mtensorflow\u001b[39;00m\u001b[39m.\u001b[39;00m\u001b[39mpython\u001b[39;00m\u001b[39m.\u001b[39;00m\u001b[39mutil\u001b[39;00m\u001b[39m.\u001b[39;00m\u001b[39mlazy_loader\u001b[39;00m \u001b[39mimport\u001b[39;00m LazyLoader \u001b[39mas\u001b[39;00m _LazyLoader\n\u001b[1;32m     41\u001b[0m \u001b[39m# Make sure code inside the TensorFlow codebase can use tf2.enabled() at import.\u001b[39;00m\n",
      "File \u001b[0;32m/usr/local/lib/python3.8/dist-packages/tensorflow/python/__init__.py:45\u001b[0m\n\u001b[1;32m     43\u001b[0m \u001b[39mfrom\u001b[39;00m \u001b[39mtensorflow\u001b[39;00m\u001b[39m.\u001b[39;00m\u001b[39mpython\u001b[39;00m \u001b[39mimport\u001b[39;00m distribute\n\u001b[1;32m     44\u001b[0m \u001b[39m# from tensorflow.python import keras\u001b[39;00m\n\u001b[0;32m---> 45\u001b[0m \u001b[39mfrom\u001b[39;00m \u001b[39mtensorflow\u001b[39;00m\u001b[39m.\u001b[39;00m\u001b[39mpython\u001b[39;00m\u001b[39m.\u001b[39;00m\u001b[39mfeature_column\u001b[39;00m \u001b[39mimport\u001b[39;00m feature_column_lib \u001b[39mas\u001b[39;00m feature_column\n\u001b[1;32m     46\u001b[0m \u001b[39m# from tensorflow.python.layers import layers\u001b[39;00m\n\u001b[1;32m     47\u001b[0m \u001b[39mfrom\u001b[39;00m \u001b[39mtensorflow\u001b[39;00m\u001b[39m.\u001b[39;00m\u001b[39mpython\u001b[39;00m\u001b[39m.\u001b[39;00m\u001b[39mmodule\u001b[39;00m \u001b[39mimport\u001b[39;00m module\n",
      "File \u001b[0;32m/usr/local/lib/python3.8/dist-packages/tensorflow/python/feature_column/feature_column_lib.py:18\u001b[0m\n\u001b[1;32m     15\u001b[0m \u001b[39m\"\"\"FeatureColumns: tools for ingesting and representing features.\"\"\"\u001b[39;00m\n\u001b[1;32m     17\u001b[0m \u001b[39m# pylint: disable=unused-import,line-too-long,wildcard-import,g-bad-import-order\u001b[39;00m\n\u001b[0;32m---> 18\u001b[0m \u001b[39mfrom\u001b[39;00m \u001b[39mtensorflow\u001b[39;00m\u001b[39m.\u001b[39;00m\u001b[39mpython\u001b[39;00m\u001b[39m.\u001b[39;00m\u001b[39mfeature_column\u001b[39;00m\u001b[39m.\u001b[39;00m\u001b[39mfeature_column\u001b[39;00m \u001b[39mimport\u001b[39;00m \u001b[39m*\u001b[39m\n\u001b[1;32m     19\u001b[0m \u001b[39mfrom\u001b[39;00m \u001b[39mtensorflow\u001b[39;00m\u001b[39m.\u001b[39;00m\u001b[39mpython\u001b[39;00m\u001b[39m.\u001b[39;00m\u001b[39mfeature_column\u001b[39;00m\u001b[39m.\u001b[39;00m\u001b[39mfeature_column_v2\u001b[39;00m \u001b[39mimport\u001b[39;00m \u001b[39m*\u001b[39m\n\u001b[1;32m     20\u001b[0m \u001b[39mfrom\u001b[39;00m \u001b[39mtensorflow\u001b[39;00m\u001b[39m.\u001b[39;00m\u001b[39mpython\u001b[39;00m\u001b[39m.\u001b[39;00m\u001b[39mfeature_column\u001b[39;00m\u001b[39m.\u001b[39;00m\u001b[39msequence_feature_column\u001b[39;00m \u001b[39mimport\u001b[39;00m \u001b[39m*\u001b[39m\n",
      "File \u001b[0;32m/usr/local/lib/python3.8/dist-packages/tensorflow/python/feature_column/feature_column.py:143\u001b[0m\n\u001b[1;32m    141\u001b[0m \u001b[39mfrom\u001b[39;00m \u001b[39mtensorflow\u001b[39;00m\u001b[39m.\u001b[39;00m\u001b[39mpython\u001b[39;00m\u001b[39m.\u001b[39;00m\u001b[39mframework\u001b[39;00m \u001b[39mimport\u001b[39;00m sparse_tensor \u001b[39mas\u001b[39;00m sparse_tensor_lib\n\u001b[1;32m    142\u001b[0m \u001b[39mfrom\u001b[39;00m \u001b[39mtensorflow\u001b[39;00m\u001b[39m.\u001b[39;00m\u001b[39mpython\u001b[39;00m\u001b[39m.\u001b[39;00m\u001b[39mframework\u001b[39;00m \u001b[39mimport\u001b[39;00m tensor_shape\n\u001b[0;32m--> 143\u001b[0m \u001b[39mfrom\u001b[39;00m \u001b[39mtensorflow\u001b[39;00m\u001b[39m.\u001b[39;00m\u001b[39mpython\u001b[39;00m\u001b[39m.\u001b[39;00m\u001b[39mlayers\u001b[39;00m \u001b[39mimport\u001b[39;00m base\n\u001b[1;32m    144\u001b[0m \u001b[39mfrom\u001b[39;00m \u001b[39mtensorflow\u001b[39;00m\u001b[39m.\u001b[39;00m\u001b[39mpython\u001b[39;00m\u001b[39m.\u001b[39;00m\u001b[39mops\u001b[39;00m \u001b[39mimport\u001b[39;00m array_ops\n\u001b[1;32m    145\u001b[0m \u001b[39mfrom\u001b[39;00m \u001b[39mtensorflow\u001b[39;00m\u001b[39m.\u001b[39;00m\u001b[39mpython\u001b[39;00m\u001b[39m.\u001b[39;00m\u001b[39mops\u001b[39;00m \u001b[39mimport\u001b[39;00m array_ops_stack\n",
      "File \u001b[0;32m/usr/local/lib/python3.8/dist-packages/tensorflow/python/layers/base.py:16\u001b[0m\n\u001b[1;32m      1\u001b[0m \u001b[39m# Copyright 2015 The TensorFlow Authors. All Rights Reserved.\u001b[39;00m\n\u001b[1;32m      2\u001b[0m \u001b[39m#\u001b[39;00m\n\u001b[1;32m      3\u001b[0m \u001b[39m# Licensed under the Apache License, Version 2.0 (the \"License\");\u001b[39;00m\n\u001b[0;32m   (...)\u001b[0m\n\u001b[1;32m     13\u001b[0m \u001b[39m# limitations under the License.\u001b[39;00m\n\u001b[1;32m     14\u001b[0m \u001b[39m# =============================================================================\u001b[39;00m\n\u001b[1;32m     15\u001b[0m \u001b[39m\"\"\"Contains the base Layer class, from which all layers inherit.\"\"\"\u001b[39;00m\n\u001b[0;32m---> 16\u001b[0m \u001b[39mfrom\u001b[39;00m \u001b[39mtensorflow\u001b[39;00m\u001b[39m.\u001b[39;00m\u001b[39mpython\u001b[39;00m\u001b[39m.\u001b[39;00m\u001b[39mkeras\u001b[39;00m\u001b[39m.\u001b[39;00m\u001b[39mlegacy_tf_layers\u001b[39;00m \u001b[39mimport\u001b[39;00m base\n\u001b[1;32m     18\u001b[0m InputSpec \u001b[39m=\u001b[39m base\u001b[39m.\u001b[39mInputSpec\n\u001b[1;32m     20\u001b[0m keras_style_scope \u001b[39m=\u001b[39m base\u001b[39m.\u001b[39mkeras_style_scope\n",
      "File \u001b[0;32m/usr/local/lib/python3.8/dist-packages/tensorflow/python/keras/__init__.py:25\u001b[0m\n\u001b[1;32m     22\u001b[0m \u001b[39mfrom\u001b[39;00m \u001b[39mtensorflow\u001b[39;00m\u001b[39m.\u001b[39;00m\u001b[39mpython\u001b[39;00m\u001b[39m.\u001b[39;00m\u001b[39mkeras\u001b[39;00m \u001b[39mimport\u001b[39;00m distribute\n\u001b[1;32m     24\u001b[0m \u001b[39m# See b/110718070#comment18 for more details about this import.\u001b[39;00m\n\u001b[0;32m---> 25\u001b[0m \u001b[39mfrom\u001b[39;00m \u001b[39mtensorflow\u001b[39;00m\u001b[39m.\u001b[39;00m\u001b[39mpython\u001b[39;00m\u001b[39m.\u001b[39;00m\u001b[39mkeras\u001b[39;00m \u001b[39mimport\u001b[39;00m models\n\u001b[1;32m     27\u001b[0m \u001b[39mfrom\u001b[39;00m \u001b[39mtensorflow\u001b[39;00m\u001b[39m.\u001b[39;00m\u001b[39mpython\u001b[39;00m\u001b[39m.\u001b[39;00m\u001b[39mkeras\u001b[39;00m\u001b[39m.\u001b[39;00m\u001b[39mengine\u001b[39;00m\u001b[39m.\u001b[39;00m\u001b[39minput_layer\u001b[39;00m \u001b[39mimport\u001b[39;00m Input\n\u001b[1;32m     28\u001b[0m \u001b[39mfrom\u001b[39;00m \u001b[39mtensorflow\u001b[39;00m\u001b[39m.\u001b[39;00m\u001b[39mpython\u001b[39;00m\u001b[39m.\u001b[39;00m\u001b[39mkeras\u001b[39;00m\u001b[39m.\u001b[39;00m\u001b[39mengine\u001b[39;00m\u001b[39m.\u001b[39;00m\u001b[39msequential\u001b[39;00m \u001b[39mimport\u001b[39;00m Sequential\n",
      "File \u001b[0;32m/usr/local/lib/python3.8/dist-packages/tensorflow/python/keras/models.py:22\u001b[0m\n\u001b[1;32m     20\u001b[0m \u001b[39mfrom\u001b[39;00m \u001b[39mtensorflow\u001b[39;00m\u001b[39m.\u001b[39;00m\u001b[39mpython\u001b[39;00m\u001b[39m.\u001b[39;00m\u001b[39mkeras\u001b[39;00m \u001b[39mimport\u001b[39;00m metrics \u001b[39mas\u001b[39;00m metrics_module\n\u001b[1;32m     21\u001b[0m \u001b[39mfrom\u001b[39;00m \u001b[39mtensorflow\u001b[39;00m\u001b[39m.\u001b[39;00m\u001b[39mpython\u001b[39;00m\u001b[39m.\u001b[39;00m\u001b[39mkeras\u001b[39;00m \u001b[39mimport\u001b[39;00m optimizer_v1\n\u001b[0;32m---> 22\u001b[0m \u001b[39mfrom\u001b[39;00m \u001b[39mtensorflow\u001b[39;00m\u001b[39m.\u001b[39;00m\u001b[39mpython\u001b[39;00m\u001b[39m.\u001b[39;00m\u001b[39mkeras\u001b[39;00m\u001b[39m.\u001b[39;00m\u001b[39mengine\u001b[39;00m \u001b[39mimport\u001b[39;00m functional\n\u001b[1;32m     23\u001b[0m \u001b[39mfrom\u001b[39;00m \u001b[39mtensorflow\u001b[39;00m\u001b[39m.\u001b[39;00m\u001b[39mpython\u001b[39;00m\u001b[39m.\u001b[39;00m\u001b[39mkeras\u001b[39;00m\u001b[39m.\u001b[39;00m\u001b[39mengine\u001b[39;00m \u001b[39mimport\u001b[39;00m sequential\n\u001b[1;32m     24\u001b[0m \u001b[39mfrom\u001b[39;00m \u001b[39mtensorflow\u001b[39;00m\u001b[39m.\u001b[39;00m\u001b[39mpython\u001b[39;00m\u001b[39m.\u001b[39;00m\u001b[39mkeras\u001b[39;00m\u001b[39m.\u001b[39;00m\u001b[39mengine\u001b[39;00m \u001b[39mimport\u001b[39;00m training\n",
      "File \u001b[0;32m/usr/local/lib/python3.8/dist-packages/tensorflow/python/keras/engine/functional.py:32\u001b[0m\n\u001b[1;32m     30\u001b[0m \u001b[39mfrom\u001b[39;00m \u001b[39mtensorflow\u001b[39;00m\u001b[39m.\u001b[39;00m\u001b[39mpython\u001b[39;00m\u001b[39m.\u001b[39;00m\u001b[39mkeras\u001b[39;00m\u001b[39m.\u001b[39;00m\u001b[39mengine\u001b[39;00m \u001b[39mimport\u001b[39;00m input_spec\n\u001b[1;32m     31\u001b[0m \u001b[39mfrom\u001b[39;00m \u001b[39mtensorflow\u001b[39;00m\u001b[39m.\u001b[39;00m\u001b[39mpython\u001b[39;00m\u001b[39m.\u001b[39;00m\u001b[39mkeras\u001b[39;00m\u001b[39m.\u001b[39;00m\u001b[39mengine\u001b[39;00m \u001b[39mimport\u001b[39;00m node \u001b[39mas\u001b[39;00m node_module\n\u001b[0;32m---> 32\u001b[0m \u001b[39mfrom\u001b[39;00m \u001b[39mtensorflow\u001b[39;00m\u001b[39m.\u001b[39;00m\u001b[39mpython\u001b[39;00m\u001b[39m.\u001b[39;00m\u001b[39mkeras\u001b[39;00m\u001b[39m.\u001b[39;00m\u001b[39mengine\u001b[39;00m \u001b[39mimport\u001b[39;00m training \u001b[39mas\u001b[39;00m training_lib\n\u001b[1;32m     33\u001b[0m \u001b[39mfrom\u001b[39;00m \u001b[39mtensorflow\u001b[39;00m\u001b[39m.\u001b[39;00m\u001b[39mpython\u001b[39;00m\u001b[39m.\u001b[39;00m\u001b[39mkeras\u001b[39;00m\u001b[39m.\u001b[39;00m\u001b[39mengine\u001b[39;00m \u001b[39mimport\u001b[39;00m training_utils\n\u001b[1;32m     34\u001b[0m \u001b[39mfrom\u001b[39;00m \u001b[39mtensorflow\u001b[39;00m\u001b[39m.\u001b[39;00m\u001b[39mpython\u001b[39;00m\u001b[39m.\u001b[39;00m\u001b[39mkeras\u001b[39;00m\u001b[39m.\u001b[39;00m\u001b[39msaving\u001b[39;00m\u001b[39m.\u001b[39;00m\u001b[39msaved_model\u001b[39;00m \u001b[39mimport\u001b[39;00m network_serialization\n",
      "File \u001b[0;32m/usr/local/lib/python3.8/dist-packages/tensorflow/python/keras/engine/training.py:53\u001b[0m\n\u001b[1;32m     51\u001b[0m \u001b[39mfrom\u001b[39;00m \u001b[39mtensorflow\u001b[39;00m\u001b[39m.\u001b[39;00m\u001b[39mpython\u001b[39;00m\u001b[39m.\u001b[39;00m\u001b[39mkeras\u001b[39;00m\u001b[39m.\u001b[39;00m\u001b[39mmixed_precision\u001b[39;00m \u001b[39mimport\u001b[39;00m loss_scale_optimizer \u001b[39mas\u001b[39;00m lso\n\u001b[1;32m     52\u001b[0m \u001b[39mfrom\u001b[39;00m \u001b[39mtensorflow\u001b[39;00m\u001b[39m.\u001b[39;00m\u001b[39mpython\u001b[39;00m\u001b[39m.\u001b[39;00m\u001b[39mkeras\u001b[39;00m\u001b[39m.\u001b[39;00m\u001b[39mmixed_precision\u001b[39;00m \u001b[39mimport\u001b[39;00m policy\n\u001b[0;32m---> 53\u001b[0m \u001b[39mfrom\u001b[39;00m \u001b[39mtensorflow\u001b[39;00m\u001b[39m.\u001b[39;00m\u001b[39mpython\u001b[39;00m\u001b[39m.\u001b[39;00m\u001b[39mkeras\u001b[39;00m\u001b[39m.\u001b[39;00m\u001b[39msaving\u001b[39;00m \u001b[39mimport\u001b[39;00m hdf5_format\n\u001b[1;32m     54\u001b[0m \u001b[39mfrom\u001b[39;00m \u001b[39mtensorflow\u001b[39;00m\u001b[39m.\u001b[39;00m\u001b[39mpython\u001b[39;00m\u001b[39m.\u001b[39;00m\u001b[39mkeras\u001b[39;00m\u001b[39m.\u001b[39;00m\u001b[39msaving\u001b[39;00m \u001b[39mimport\u001b[39;00m save\n\u001b[1;32m     55\u001b[0m \u001b[39mfrom\u001b[39;00m \u001b[39mtensorflow\u001b[39;00m\u001b[39m.\u001b[39;00m\u001b[39mpython\u001b[39;00m\u001b[39m.\u001b[39;00m\u001b[39mkeras\u001b[39;00m\u001b[39m.\u001b[39;00m\u001b[39msaving\u001b[39;00m \u001b[39mimport\u001b[39;00m saving_utils\n",
      "File \u001b[0;32m/usr/local/lib/python3.8/dist-packages/tensorflow/python/keras/saving/hdf5_format.py:37\u001b[0m\n\u001b[1;32m     35\u001b[0m \u001b[39m# pylint: disable=g-import-not-at-top\u001b[39;00m\n\u001b[1;32m     36\u001b[0m \u001b[39mtry\u001b[39;00m:\n\u001b[0;32m---> 37\u001b[0m   \u001b[39mimport\u001b[39;00m \u001b[39mh5py\u001b[39;00m\n\u001b[1;32m     38\u001b[0m   HDF5_OBJECT_HEADER_LIMIT \u001b[39m=\u001b[39m \u001b[39m64512\u001b[39m\n\u001b[1;32m     39\u001b[0m \u001b[39mexcept\u001b[39;00m \u001b[39mImportError\u001b[39;00m:\n",
      "File \u001b[0;32m/usr/local/lib/python3.8/dist-packages/h5py/__init__.py:46\u001b[0m\n\u001b[1;32m     37\u001b[0m     _warn((\u001b[39m\"\u001b[39m\u001b[39mh5py is running against HDF5 \u001b[39m\u001b[39m{0}\u001b[39;00m\u001b[39m when it was built against \u001b[39m\u001b[39m{1}\u001b[39;00m\u001b[39m, \u001b[39m\u001b[39m\"\u001b[39m\n\u001b[1;32m     38\u001b[0m            \u001b[39m\"\u001b[39m\u001b[39mthis may cause problems\u001b[39m\u001b[39m\"\u001b[39m)\u001b[39m.\u001b[39mformat(\n\u001b[1;32m     39\u001b[0m             \u001b[39m'\u001b[39m\u001b[39m{0}\u001b[39;00m\u001b[39m.\u001b[39m\u001b[39m{1}\u001b[39;00m\u001b[39m.\u001b[39m\u001b[39m{2}\u001b[39;00m\u001b[39m'\u001b[39m\u001b[39m.\u001b[39mformat(\u001b[39m*\u001b[39mversion\u001b[39m.\u001b[39mhdf5_version_tuple),\n\u001b[1;32m     40\u001b[0m             \u001b[39m'\u001b[39m\u001b[39m{0}\u001b[39;00m\u001b[39m.\u001b[39m\u001b[39m{1}\u001b[39;00m\u001b[39m.\u001b[39m\u001b[39m{2}\u001b[39;00m\u001b[39m'\u001b[39m\u001b[39m.\u001b[39mformat(\u001b[39m*\u001b[39mversion\u001b[39m.\u001b[39mhdf5_built_version_tuple)\n\u001b[1;32m     41\u001b[0m     ))\n\u001b[1;32m     44\u001b[0m _errors\u001b[39m.\u001b[39msilence_errors()\n\u001b[0;32m---> 46\u001b[0m \u001b[39mfrom\u001b[39;00m \u001b[39m.\u001b[39;00m\u001b[39m_conv\u001b[39;00m \u001b[39mimport\u001b[39;00m register_converters \u001b[39mas\u001b[39;00m _register_converters\n\u001b[1;32m     47\u001b[0m _register_converters()\n\u001b[1;32m     49\u001b[0m \u001b[39mfrom\u001b[39;00m \u001b[39m.\u001b[39;00m\u001b[39mh5z\u001b[39;00m \u001b[39mimport\u001b[39;00m _register_lzf\n",
      "File \u001b[0;32mh5py/h5t.pxd:14\u001b[0m, in \u001b[0;36minit h5py._conv\u001b[0;34m()\u001b[0m\n",
      "File \u001b[0;32mh5py/h5t.pyx:293\u001b[0m, in \u001b[0;36minit h5py.h5t\u001b[0;34m()\u001b[0m\n",
      "File \u001b[0;32m/usr/local/lib/python3.8/dist-packages/numpy/__init__.py:320\u001b[0m, in \u001b[0;36m__getattr__\u001b[0;34m(attr)\u001b[0m\n\u001b[1;32m    317\u001b[0m     \u001b[39mfrom\u001b[39;00m \u001b[39m.\u001b[39;00m\u001b[39mtesting\u001b[39;00m \u001b[39mimport\u001b[39;00m Tester\n\u001b[1;32m    318\u001b[0m     \u001b[39mreturn\u001b[39;00m Tester\n\u001b[0;32m--> 320\u001b[0m \u001b[39mraise\u001b[39;00m \u001b[39mAttributeError\u001b[39;00m(\u001b[39m\"\u001b[39m\u001b[39mmodule \u001b[39m\u001b[39m{!r}\u001b[39;00m\u001b[39m has no attribute \u001b[39m\u001b[39m\"\u001b[39m\n\u001b[1;32m    321\u001b[0m                      \u001b[39m\"\u001b[39m\u001b[39m{!r}\u001b[39;00m\u001b[39m\"\u001b[39m\u001b[39m.\u001b[39mformat(\u001b[39m__name__\u001b[39m, attr))\n",
      "\u001b[0;31mAttributeError\u001b[0m: module 'numpy' has no attribute 'typeDict'"
     ]
    }
   ],
   "source": [
    "from sklearn.model_selection import train_test_split\n",
    "from sklearn.metrics import mean_absolute_error\n",
    "import tensorflow as tf\n",
    "import tensorflow_addons as tfa\n",
    "from tabtransformertf.utils.preprocessing import df_to_dataset, build_categorical_prep\n",
    "from tabtransformertf.models.fttransformer import FTTransformerEncoder, FTTransformer\n",
    "\n",
    "# データの準備\n",
    "train_data, val_data = train_test_split(x_train, test_size=0.2, shuffle=True, random_state=8)\n",
    "\n",
    "train_dataset = df_to_dataset(train_data[correct_num_features + [target_feature]], target_feature, shuffle=True, batch_size=1024)\n",
    "val_dataset = df_to_dataset(val_data[correct_num_features + [target_feature]], target_feature, shuffle=False, batch_size=1024)\n",
    "\n",
    "category_prep_layers = build_categorical_prep(train_data, correct_cat_features)\n",
    "\n",
    "ft_linear_encoder = FTTransformerEncoder(\n",
    "    numerical_features=correct_num_features,  # list of numeric features\n",
    "    categorical_features=correct_cat_features,  # list of numeric features\n",
    "    numerical_data=x_train[correct_num_features].values,\n",
    "    categorical_data=x_train[correct_cat_features].values,\n",
    "    y = None,\n",
    "    numerical_embedding_type='linear',\n",
    "    embedding_dim=32,\n",
    "    depth=3,\n",
    "    heads=6,\n",
    "    attn_dropout=0.3,\n",
    "    ff_dropout=0.3,\n",
    "    explainable=True\n",
    ")\n",
    "\n",
    "# Pass the encoder to the model\n",
    "ft_model = FTTransformer(\n",
    "    encoder=ft_linear_encoder,  # Encoder from above\n",
    "    out_dim=1,  # Number of outputs in final layer\n",
    "    out_activation='relu',  # Activation function for final layer\n",
    ")\n",
    "\n",
    "epochs = 1000\n",
    "lr = 0.001\n",
    "weight_decay = 0.0001\n",
    "optimizer = tfa.optimizers.AdamW(\n",
    "        learning_rate=lr, weight_decay=weight_decay\n",
    "    )\n",
    "\n",
    "ft_model.compile(\n",
    "    optimizer = optimizer,\n",
    "    loss = tf.keras.losses.MeanSquaredError(),\n",
    "    metrics= [tf.keras.metrics.RootMeanSquaredError()],\n",
    ")\n",
    "\n",
    "\n",
    "early_stopping = tf.keras.callbacks.EarlyStopping(monitor=\"val_loss\", mode=\"min\", patience=10)\n",
    "\n",
    "history = ft_model.fit(\n",
    "    train_dataset, \n",
    "    epochs=epochs, \n",
    "    validation_data=val_dataset,\n",
    "    callbacks=[early_stopping]\n",
    ")"
   ]
  },
  {
   "cell_type": "code",
   "execution_count": null,
   "metadata": {},
   "outputs": [],
   "source": [
    "test_dataset = df_to_dataset(x_test, shuffle=False)\n",
    "\n",
    "y_pred = ft_model.predict(test_dataset)['output'].reshape(-1)"
   ]
  },
  {
   "cell_type": "code",
   "execution_count": null,
   "metadata": {},
   "outputs": [],
   "source": [
    "# sample_submission.csv を読み込む\n",
    "sample_submission = pd.read_csv('sample_submission.csv')\n",
    "\n",
    "# predicted_scores を sample_submission の score に代入\n",
    "sample_submission['score'] = y_pred\n"
   ]
  },
  {
   "cell_type": "code",
   "execution_count": null,
   "metadata": {},
   "outputs": [],
   "source": [
    "# sample_submission のスコアで10より大きいものを10にする\n",
    "sample_submission.loc[sample_submission['score'] > 10, 'score'] = 10\n",
    "# sample_submission のスコアで1より小さいものを1にする\n",
    "sample_submission.loc[sample_submission['score'] < 1, 'score'] = 1\n",
    "\n",
    "# sample_submission のスコア分布を確認\n",
    "sample_submission['score'].hist(bins=100)"
   ]
  },
  {
   "cell_type": "code",
   "execution_count": null,
   "metadata": {},
   "outputs": [],
   "source": [
    "\n",
    "\n",
    "# sample_submission を出力\n",
    "sample_submission.to_csv('submission_nural.csv', index=False)"
   ]
  }
 ],
 "metadata": {
  "kernelspec": {
   "display_name": ".venv",
   "language": "python",
   "name": "python3"
  },
  "language_info": {
   "codemirror_mode": {
    "name": "ipython",
    "version": 3
   },
   "file_extension": ".py",
   "mimetype": "text/x-python",
   "name": "python",
   "nbconvert_exporter": "python",
   "pygments_lexer": "ipython3",
   "version": "3.8.10"
  },
  "orig_nbformat": 4
 },
 "nbformat": 4,
 "nbformat_minor": 2
}
