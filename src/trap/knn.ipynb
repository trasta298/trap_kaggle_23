{
 "cells": [
  {
   "cell_type": "code",
   "execution_count": 1,
   "metadata": {},
   "outputs": [],
   "source": [
    "import pandas as pd\n",
    "\n",
    "train_data = pd.read_csv('train.csv')\n",
    "test_data = pd.read_csv('test.csv')\n",
    "anime_data = pd.read_csv('anime.csv')\n",
    "profile_data = pd.read_csv('profile.csv')"
   ]
  },
  {
   "cell_type": "code",
   "execution_count": 2,
   "metadata": {},
   "outputs": [],
   "source": [
    "# score が 1より小さいものを1にする\n",
    "train_data['score'] = train_data['score'].apply(lambda x: 1 if x < 1 else x)\n",
    "\n",
    "# score が 10より大きいものを10にする\n",
    "train_data['score'] = train_data['score'].apply(lambda x: 10 if x > 10 else x)"
   ]
  },
  {
   "cell_type": "code",
   "execution_count": 3,
   "metadata": {},
   "outputs": [
    {
     "data": {
      "text/html": [
       "<div>\n",
       "<style scoped>\n",
       "    .dataframe tbody tr th:only-of-type {\n",
       "        vertical-align: middle;\n",
       "    }\n",
       "\n",
       "    .dataframe tbody tr th {\n",
       "        vertical-align: top;\n",
       "    }\n",
       "\n",
       "    .dataframe thead th {\n",
       "        text-align: right;\n",
       "    }\n",
       "</style>\n",
       "<table border=\"1\" class=\"dataframe\">\n",
       "  <thead>\n",
       "    <tr style=\"text-align: right;\">\n",
       "      <th></th>\n",
       "      <th>user</th>\n",
       "      <th>title</th>\n",
       "      <th>score</th>\n",
       "    </tr>\n",
       "  </thead>\n",
       "  <tbody>\n",
       "    <tr>\n",
       "      <th>0</th>\n",
       "      <td>cd931c240b</td>\n",
       "      <td>Hanamaru Youchien</td>\n",
       "      <td>9</td>\n",
       "    </tr>\n",
       "    <tr>\n",
       "      <th>1</th>\n",
       "      <td>bf666ac921</td>\n",
       "      <td>Sakamichi no Apollon</td>\n",
       "      <td>8</td>\n",
       "    </tr>\n",
       "    <tr>\n",
       "      <th>2</th>\n",
       "      <td>24a73e9958</td>\n",
       "      <td>Glasslip</td>\n",
       "      <td>5</td>\n",
       "    </tr>\n",
       "    <tr>\n",
       "      <th>3</th>\n",
       "      <td>d45057b3ec</td>\n",
       "      <td>Ore no Imouto ga Konnani Kawaii Wake ga Nai</td>\n",
       "      <td>7</td>\n",
       "    </tr>\n",
       "    <tr>\n",
       "      <th>4</th>\n",
       "      <td>9b33e2839e</td>\n",
       "      <td>Shining Hearts: Shiawase no Pan</td>\n",
       "      <td>2</td>\n",
       "    </tr>\n",
       "  </tbody>\n",
       "</table>\n",
       "</div>"
      ],
      "text/plain": [
       "         user                                        title  score\n",
       "0  cd931c240b                            Hanamaru Youchien      9\n",
       "1  bf666ac921                         Sakamichi no Apollon      8\n",
       "2  24a73e9958                                     Glasslip      5\n",
       "3  d45057b3ec  Ore no Imouto ga Konnani Kawaii Wake ga Nai      7\n",
       "4  9b33e2839e              Shining Hearts: Shiawase no Pan      2"
      ]
     },
     "execution_count": 3,
     "metadata": {},
     "output_type": "execute_result"
    }
   ],
   "source": [
    "# animeの重複を削除\n",
    "anime_data = anime_data.drop_duplicates(subset='id')\n",
    "\n",
    "# train_data と anime_data を結合\n",
    "train_data = pd.merge(train_data, anime_data, left_on='anime_id', right_on='id', how='left')\n",
    "\n",
    "train_data = train_data[['user', 'title', 'score']]\n",
    "\n",
    "train_data.head()"
   ]
  },
  {
   "cell_type": "code",
   "execution_count": 9,
   "metadata": {},
   "outputs": [],
   "source": [
    "from scipy.sparse import csr_matrix\n",
    "\n",
    "anime_pivot = train_data.pivot_table(index='user', columns='title', values='score').fillna(0)\n",
    "\n",
    "\n",
    "# 転置して形状を合わせる\n",
    "sparse_anime_pivot = csr_matrix(anime_pivot.T)"
   ]
  },
  {
   "cell_type": "code",
   "execution_count": 10,
   "metadata": {},
   "outputs": [
    {
     "data": {
      "text/plain": [
       "title\n",
       "Yasashii Fue, Tori, Ishi          1.0\n",
       "Docchi ni Suru?                   1.0\n",
       "Mori no Kuma-san (2009)           1.0\n",
       "I Was King                        1.0\n",
       "Survivor                          1.0\n",
       "                                 ... \n",
       "High Score                        0.0\n",
       "High School! Kimengumi (Movie)    0.0\n",
       "High School Fleet                 0.0\n",
       "High School DxD Specials          0.0\n",
       "Kyousou Giga                      0.0\n",
       "Length: 7573, dtype: float64"
      ]
     },
     "execution_count": 10,
     "metadata": {},
     "output_type": "execute_result"
    }
   ],
   "source": [
    "from sklearn.metrics.pairwise import cosine_similarity\n",
    "import numpy as np\n",
    "\n",
    "anime1 = anime_pivot['vivi'].values.reshape(1, -1)  # type: ignore\n",
    "\n",
    "similarities = cosine_similarity(anime1, sparse_anime_pivot)\n",
    "similarities_series = pd.Series(similarities[0], index=anime_pivot.columns)\n",
    "\n",
    "# 類似度の高い順に並び替え\n",
    "similarities_series.sort_values(ascending=False)\n",
    "\n",
    "# 全アニメについて類似度を計算する\n",
    "sim_animes = {}\n",
    "for anime in anime_pivot.columns:\n",
    "    animetmp = anime_pivot[anime].values.reshape(1, -1)  # type: ignore\n",
    "    similarities = cosine_similarity(animetmp, sparse_anime_pivot)\n",
    "    sim_animes[anime] = similarities[0]\n",
    "\n"
   ]
  },
  {
   "cell_type": "code",
   "execution_count": 3,
   "metadata": {},
   "outputs": [
    {
     "name": "stdout",
     "output_type": "stream",
     "text": [
      "[2.30258509 2.19722458 2.07944154 1.94591015 1.79175947 1.60943791\n",
      " 1.38629436 1.09861229 0.69314718 0.        ]\n",
      "[ 1.  2.  3.  4.  5.  6.  7.  8.  9. 10.]\n"
     ]
    }
   ],
   "source": [
    "import numpy as np\n",
    "\n",
    "y_val_fold = np.array([1, 2, 3, 4, 5, 6, 7, 8, 9, 10])\n",
    "y_val_fold = np.log(11 - y_val_fold)\n",
    "print(y_val_fold)\n",
    "\n",
    "y_val_fold = 11 - np.exp(y_val_fold)\n",
    "print(y_val_fold)\n"
   ]
  }
 ],
 "metadata": {
  "kernelspec": {
   "display_name": ".venv",
   "language": "python",
   "name": "python3"
  },
  "language_info": {
   "codemirror_mode": {
    "name": "ipython",
    "version": 3
   },
   "file_extension": ".py",
   "mimetype": "text/x-python",
   "name": "python",
   "nbconvert_exporter": "python",
   "pygments_lexer": "ipython3",
   "version": "3.8.16"
  },
  "orig_nbformat": 4
 },
 "nbformat": 4,
 "nbformat_minor": 2
}
