{
 "cells": [
  {
   "cell_type": "code",
   "execution_count": 1,
   "metadata": {},
   "outputs": [],
   "source": [
    "import pandas as pd\n",
    "\n",
    "# 入力ファイル名と対応する重みの配列\n",
    "input_files = ['submission_nural.csv', 'submission.csv', 'submission421.csv'] # ここに必要なファイル名を追加\n",
    "weights = [0.15, 0.425, 0.425] # ここに対応する重みを追加\n",
    "\n",
    "# 重みの合計が1になることを確認\n",
    "assert sum(weights) == 1, \"Weights must sum to 1\"\n",
    "\n",
    "# 各ファイルからscoreカラムを読み取り、重みを掛ける\n",
    "weighted_scores = []\n",
    "for file, weight in zip(input_files, weights):\n",
    "    df = pd.read_csv(file)\n",
    "    weighted_scores.append(df['score'] * weight)\n",
    "\n",
    "# 重み付きの予測値の合計を取り、最終的な予測値を計算\n",
    "predictions = pd.concat(weighted_scores, axis=1).sum(axis=1)\n",
    "\n",
    "# サンプル提出ファイルを読み込み、予測値を追加\n",
    "submission = pd.read_csv('sample_submission.csv')\n",
    "submission[\"score\"] = predictions\n",
    "\n",
    "# CSVファイルとして出力\n",
    "submission.to_csv('weighted_averaged_submission.csv', index=False)\n"
   ]
  }
 ],
 "metadata": {
  "kernelspec": {
   "display_name": ".venv",
   "language": "python",
   "name": "python3"
  },
  "language_info": {
   "codemirror_mode": {
    "name": "ipython",
    "version": 3
   },
   "file_extension": ".py",
   "mimetype": "text/x-python",
   "name": "python",
   "nbconvert_exporter": "python",
   "pygments_lexer": "ipython3",
   "version": "3.8.16"
  },
  "orig_nbformat": 4
 },
 "nbformat": 4,
 "nbformat_minor": 2
}
